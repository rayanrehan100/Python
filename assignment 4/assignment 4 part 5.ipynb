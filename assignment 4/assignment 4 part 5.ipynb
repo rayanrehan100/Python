{
 "cells": [
  {
   "cell_type": "code",
   "execution_count": 18,
   "id": "40ba3dfd",
   "metadata": {
    "scrolled": true
   },
   "outputs": [
    {
     "name": "stdout",
     "output_type": "stream",
     "text": [
      "Name Swapping Tool\n",
      "Enter 1st NameRayan\n",
      "Enter 2nd nameRehan\n",
      "Rehan  Rayan\n"
     ]
    }
   ],
   "source": [
    "print (\"Name Swapping Tool\");\n",
    "name1 = input(\"Enter 1st Name\");\n",
    "name2 = input(\"Enter 2nd name\");\n",
    "newname = name2 + name1 ;\n",
    "newname = newname\n",
    "print(name2,\"\",name1);\n"
   ]
  },
  {
   "cell_type": "code",
   "execution_count": null,
   "id": "cdd3258d",
   "metadata": {},
   "outputs": [],
   "source": []
  },
  {
   "cell_type": "code",
   "execution_count": null,
   "id": "7efc8f44",
   "metadata": {},
   "outputs": [],
   "source": []
  }
 ],
 "metadata": {
  "kernelspec": {
   "display_name": "Python 3",
   "language": "python",
   "name": "python3"
  },
  "language_info": {
   "codemirror_mode": {
    "name": "ipython",
    "version": 3
   },
   "file_extension": ".py",
   "mimetype": "text/x-python",
   "name": "python",
   "nbconvert_exporter": "python",
   "pygments_lexer": "ipython3",
   "version": "3.8.8"
  }
 },
 "nbformat": 4,
 "nbformat_minor": 5
}
