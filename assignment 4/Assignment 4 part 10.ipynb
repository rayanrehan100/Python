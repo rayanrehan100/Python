{
 "cells": [
  {
   "cell_type": "code",
   "execution_count": 8,
   "id": "5b981d21",
   "metadata": {},
   "outputs": [
    {
     "name": "stdout",
     "output_type": "stream",
     "text": [
      "243\n"
     ]
    }
   ],
   "source": [
    "list = [45,56,78,64]\n",
    "print(list[0]+list[1]+list[2]+list[3]);"
   ]
  },
  {
   "cell_type": "code",
   "execution_count": null,
   "id": "4b6eec23",
   "metadata": {},
   "outputs": [],
   "source": []
  }
 ],
 "metadata": {
  "kernelspec": {
   "display_name": "Python 3",
   "language": "python",
   "name": "python3"
  },
  "language_info": {
   "codemirror_mode": {
    "name": "ipython",
    "version": 3
   },
   "file_extension": ".py",
   "mimetype": "text/x-python",
   "name": "python",
   "nbconvert_exporter": "python",
   "pygments_lexer": "ipython3",
   "version": "3.8.8"
  }
 },
 "nbformat": 4,
 "nbformat_minor": 5
}
