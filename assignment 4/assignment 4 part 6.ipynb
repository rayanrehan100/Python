{
 "cells": [
  {
   "cell_type": "code",
   "execution_count": 3,
   "id": "45d2e5dd",
   "metadata": {},
   "outputs": [
    {
     "name": "stdout",
     "output_type": "stream",
     "text": [
      "Simple Addition\n",
      "Enter First number5\n",
      "Enter Second number15\n",
      "20\n"
     ]
    }
   ],
   "source": [
    "print(\"Simple Addition\");\n",
    "num1 = int(input(\"Enter First number\"));\n",
    "num2 = int(input(\"Enter Second number\"));\n",
    "numm = num1 + num2;\n",
    "print(numm);"
   ]
  },
  {
   "cell_type": "code",
   "execution_count": null,
   "id": "ff91f4c5",
   "metadata": {},
   "outputs": [],
   "source": []
  }
 ],
 "metadata": {
  "kernelspec": {
   "display_name": "Python 3",
   "language": "python",
   "name": "python3"
  },
  "language_info": {
   "codemirror_mode": {
    "name": "ipython",
    "version": 3
   },
   "file_extension": ".py",
   "mimetype": "text/x-python",
   "name": "python",
   "nbconvert_exporter": "python",
   "pygments_lexer": "ipython3",
   "version": "3.8.8"
  }
 },
 "nbformat": 4,
 "nbformat_minor": 5
}
