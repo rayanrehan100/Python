{
 "cells": [
  {
   "cell_type": "code",
   "execution_count": 1,
   "id": "1d774c1f",
   "metadata": {},
   "outputs": [
    {
     "name": "stdout",
     "output_type": "stream",
     "text": [
      "Radius of circle\n",
      "Enter the Radius2.50\n",
      "5.6419999999999995\n"
     ]
    }
   ],
   "source": [
    "print(\"Radius of circle\");\n",
    "radius = float(input(\"Enter the Radius\"));\n",
    "print (radius + 3.142)"
   ]
  },
  {
   "cell_type": "code",
   "execution_count": null,
   "id": "dda86289",
   "metadata": {},
   "outputs": [],
   "source": []
  }
 ],
 "metadata": {
  "kernelspec": {
   "display_name": "Python 3",
   "language": "python",
   "name": "python3"
  },
  "language_info": {
   "codemirror_mode": {
    "name": "ipython",
    "version": 3
   },
   "file_extension": ".py",
   "mimetype": "text/x-python",
   "name": "python",
   "nbconvert_exporter": "python",
   "pygments_lexer": "ipython3",
   "version": "3.8.8"
  }
 },
 "nbformat": 4,
 "nbformat_minor": 5
}
