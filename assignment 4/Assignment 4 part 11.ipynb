{
 "cells": [
  {
   "cell_type": "code",
   "execution_count": 3,
   "id": "18bcd48e",
   "metadata": {},
   "outputs": [
    {
     "name": "stdout",
     "output_type": "stream",
     "text": [
      "30\n"
     ]
    }
   ],
   "source": [
    "list = [10,20,30];\n",
    "if (list[0] > list[1] and list[0] > list[2]):\n",
    "    print(list[0]);\n",
    "elif (list[1] > list[0] and list[1] > list[2]):\n",
    "    print(list[1]);\n",
    "else :\n",
    "    print(list[2]);"
   ]
  },
  {
   "cell_type": "code",
   "execution_count": null,
   "id": "088e5b25",
   "metadata": {},
   "outputs": [],
   "source": []
  }
 ],
 "metadata": {
  "kernelspec": {
   "display_name": "Python 3",
   "language": "python",
   "name": "python3"
  },
  "language_info": {
   "codemirror_mode": {
    "name": "ipython",
    "version": 3
   },
   "file_extension": ".py",
   "mimetype": "text/x-python",
   "name": "python",
   "nbconvert_exporter": "python",
   "pygments_lexer": "ipython3",
   "version": "3.8.8"
  }
 },
 "nbformat": 4,
 "nbformat_minor": 5
}
