{
 "cells": [
  {
   "cell_type": "code",
   "execution_count": 13,
   "id": "e82fd736",
   "metadata": {},
   "outputs": [
    {
     "name": "stdout",
     "output_type": "stream",
     "text": [
      "Test The Number\n",
      "Enter a number : 2\n",
      "EVEN\n"
     ]
    }
   ],
   "source": [
    "print(\"Test The Number\");\n",
    "num = int(input(\"Enter a number : \"));\n",
    "if (num % 2) == 0:\n",
    "  print(\"EVEN\");\n",
    "else : \n",
    "  print(\"ODD\");\n"
   ]
  },
  {
   "cell_type": "code",
   "execution_count": null,
   "id": "653da79a",
   "metadata": {},
   "outputs": [],
   "source": []
  },
  {
   "cell_type": "code",
   "execution_count": null,
   "id": "5051e38e",
   "metadata": {},
   "outputs": [],
   "source": []
  },
  {
   "cell_type": "code",
   "execution_count": null,
   "id": "09281e60",
   "metadata": {},
   "outputs": [],
   "source": []
  }
 ],
 "metadata": {
  "kernelspec": {
   "display_name": "Python 3",
   "language": "python",
   "name": "python3"
  },
  "language_info": {
   "codemirror_mode": {
    "name": "ipython",
    "version": 3
   },
   "file_extension": ".py",
   "mimetype": "text/x-python",
   "name": "python",
   "nbconvert_exporter": "python",
   "pygments_lexer": "ipython3",
   "version": "3.8.8"
  }
 },
 "nbformat": 4,
 "nbformat_minor": 5
}
