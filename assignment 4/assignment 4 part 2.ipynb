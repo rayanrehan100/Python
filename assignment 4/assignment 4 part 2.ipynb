{
 "cells": [
  {
   "cell_type": "code",
   "execution_count": 10,
   "id": "070a18a2",
   "metadata": {},
   "outputs": [
    {
     "name": "stdout",
     "output_type": "stream",
     "text": [
      "Python Version\n",
      "Enter the version3\n",
      "3\n"
     ]
    }
   ],
   "source": [
    "print (\"Python Version\");\n",
    "ver = int(input(\"Enter the version\"));\n",
    "print (ver);"
   ]
  },
  {
   "cell_type": "code",
   "execution_count": 17,
   "id": "5f9a7ed3",
   "metadata": {},
   "outputs": [
    {
     "name": "stdout",
     "output_type": "stream",
     "text": [
      "Date & Time\n",
      "Enter the date \n",
      "22\n",
      "Enter the timenine thrirty\n"
     ]
    }
   ],
   "source": [
    "print (\"Date & Time\");\n",
    "date = int(input(\"Enter the date \\n\"));\n",
    "time =input(\"Enter the time \\n\");"
   ]
  },
  {
   "cell_type": "code",
   "execution_count": null,
   "id": "d188c9a1",
   "metadata": {},
   "outputs": [],
   "source": []
  },
  {
   "cell_type": "code",
   "execution_count": null,
   "id": "aa7c56c4",
   "metadata": {},
   "outputs": [],
   "source": []
  }
 ],
 "metadata": {
  "kernelspec": {
   "display_name": "Python 3",
   "language": "python",
   "name": "python3"
  },
  "language_info": {
   "codemirror_mode": {
    "name": "ipython",
    "version": 3
   },
   "file_extension": ".py",
   "mimetype": "text/x-python",
   "name": "python",
   "nbconvert_exporter": "python",
   "pygments_lexer": "ipython3",
   "version": "3.8.8"
  }
 },
 "nbformat": 4,
 "nbformat_minor": 5
}
