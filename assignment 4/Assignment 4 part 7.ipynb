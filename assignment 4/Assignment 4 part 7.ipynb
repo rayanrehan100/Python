{
 "cells": [
  {
   "cell_type": "code",
   "execution_count": 2,
   "id": "a908c1ed",
   "metadata": {},
   "outputs": [
    {
     "name": "stdout",
     "output_type": "stream",
     "text": [
      "MARKSHEET\n",
      "Enter English Marks : 78\n",
      "Enter Islamiat Marks : 98\n",
      "Enter Maths Marks : 88\n",
      "Enter Urdu Marks : 80\n",
      "Enter Chemistry Marks : 97\n",
      "A+ grade\n"
     ]
    }
   ],
   "source": [
    "print(\"MARKSHEET\");\n",
    "\n",
    "eng = int(input(\"Enter English Marks : \"));\n",
    "\n",
    "isl = int(input(\"Enter Islamiat Marks : \"));\n",
    "\n",
    "maths = int(input(\"Enter Maths Marks : \"));\n",
    "\n",
    "urdu = int(input(\"Enter Urdu Marks : \"));\n",
    "\n",
    "chem = int(input(\"Enter Chemistry Marks : \"));\n",
    "\n",
    "total_marks = eng+isl+maths+urdu+chem;\n",
    "\n",
    "percent = (total_marks / 500)* 100;\n",
    "\n",
    "if percent < 100 and percent > 80 :\n",
    "    \n",
    "    print(\"A+ grade\");\n",
    "    \n",
    "elif percent < 80 and percent > 70 :\n",
    "    \n",
    "        print(\"A grade\");\n",
    "        \n",
    "elif percent < 70 and percent > 60 :\n",
    "    \n",
    "            print(\"B grade\");\n",
    "else :\n",
    "    print(\"Fail !\");"
   ]
  },
  {
   "cell_type": "code",
   "execution_count": null,
   "id": "4f55baf5",
   "metadata": {},
   "outputs": [],
   "source": []
  }
 ],
 "metadata": {
  "kernelspec": {
   "display_name": "Python 3",
   "language": "python",
   "name": "python3"
  },
  "language_info": {
   "codemirror_mode": {
    "name": "ipython",
    "version": 3
   },
   "file_extension": ".py",
   "mimetype": "text/x-python",
   "name": "python",
   "nbconvert_exporter": "python",
   "pygments_lexer": "ipython3",
   "version": "3.8.8"
  }
 },
 "nbformat": 4,
 "nbformat_minor": 5
}
